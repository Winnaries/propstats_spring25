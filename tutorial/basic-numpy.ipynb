{
 "cells": [
  {
   "cell_type": "markdown",
   "metadata": {},
   "source": [
    "# Introduction to NumPy\n",
    "\n",
    "NumPy is a powerful library for numerical computing in Python. It provides support for arrays, matrices, and many mathematical functions to operate on these data structures. It is widely used in data science, machine learning, and scientific computing. Its key features includes\n",
    "\n",
    "- **N-dimensional array object**: The core of NumPy is the `ndarray`, a fast and space-efficient multidimensional array.\n",
    "- **Broadcasting**: A powerful mechanism that allows NumPy to work with arrays of different shapes when performing arithmetic operations.\n",
    "- **Standard mathematical functions**: NumPy provides a wide range of mathematical functions that operate on arrays.\n",
    "- **Linear algebra, random number generation, and more**: NumPy includes modules for linear algebra, random number generation, Fourier transform, and more.\n",
    "\n",
    "## 0: Installation"
   ]
  },
  {
   "cell_type": "markdown",
   "metadata": {},
   "source": [
    "Although it shouldn't matter which Python version you are using, it's a good idea to use the latest version to ensure the compatibility with the latest NumPy version. Note that at the time of this writing, the latest Python version was 3.12.x. You can install Python by following the instruction on: https://www.python.org/downloads/. Then, usually, Python comes with `pip` package manager that manages _most_ of the dependencies for you. Now, to install NumPy, run the following command. (Tips: You can slam `shift+enter` to run the command in notebook environment.)"
   ]
  },
  {
   "cell_type": "code",
   "execution_count": 28,
   "metadata": {},
   "outputs": [
    {
     "name": "stdout",
     "output_type": "stream",
     "text": [
      "Requirement already satisfied: numpy in /Users/winnaries/micromamba/envs/probstat_spring25/lib/python3.12/site-packages (2.2.1)\n",
      "Requirement already satisfied: matplotlib in /Users/winnaries/micromamba/envs/probstat_spring25/lib/python3.12/site-packages (3.10.0)\n",
      "Requirement already satisfied: contourpy>=1.0.1 in /Users/winnaries/micromamba/envs/probstat_spring25/lib/python3.12/site-packages (from matplotlib) (1.3.1)\n",
      "Requirement already satisfied: cycler>=0.10 in /Users/winnaries/micromamba/envs/probstat_spring25/lib/python3.12/site-packages (from matplotlib) (0.12.1)\n",
      "Requirement already satisfied: fonttools>=4.22.0 in /Users/winnaries/micromamba/envs/probstat_spring25/lib/python3.12/site-packages (from matplotlib) (4.55.3)\n",
      "Requirement already satisfied: kiwisolver>=1.3.1 in /Users/winnaries/micromamba/envs/probstat_spring25/lib/python3.12/site-packages (from matplotlib) (1.4.8)\n",
      "Requirement already satisfied: packaging>=20.0 in /Users/winnaries/micromamba/envs/probstat_spring25/lib/python3.12/site-packages (from matplotlib) (24.2)\n",
      "Requirement already satisfied: pillow>=8 in /Users/winnaries/micromamba/envs/probstat_spring25/lib/python3.12/site-packages (from matplotlib) (11.1.0)\n",
      "Requirement already satisfied: pyparsing>=2.3.1 in /Users/winnaries/micromamba/envs/probstat_spring25/lib/python3.12/site-packages (from matplotlib) (3.2.1)\n",
      "Requirement already satisfied: python-dateutil>=2.7 in /Users/winnaries/micromamba/envs/probstat_spring25/lib/python3.12/site-packages (from matplotlib) (2.9.0.post0)\n",
      "Requirement already satisfied: six>=1.5 in /Users/winnaries/micromamba/envs/probstat_spring25/lib/python3.12/site-packages (from python-dateutil>=2.7->matplotlib) (1.17.0)\n",
      "Note: you may need to restart the kernel to use updated packages.\n"
     ]
    }
   ],
   "source": [
    "%pip install numpy matplotlib"
   ]
  },
  {
   "cell_type": "markdown",
   "metadata": {},
   "source": [
    "I also sneak in `matplotlib` as well for the visualization part which will be used later. Then, importing it the usual way, "
   ]
  },
  {
   "cell_type": "code",
   "execution_count": 29,
   "metadata": {},
   "outputs": [
    {
     "name": "stdout",
     "output_type": "stream",
     "text": [
      "NumPy version: 2.2.1\n"
     ]
    }
   ],
   "source": [
    "import numpy as np\n",
    "import matplotlib.pyplot as plt\n",
    "\n",
    "plt.style.use('bmh') # use any default palette you like, doesn't matter\n",
    "print(f\"NumPy version: {np.__version__}\")"
   ]
  },
  {
   "cell_type": "markdown",
   "metadata": {},
   "source": [
    "## 1: `ndarray` as vectors\n",
    "\n",
    "The `ndarray` is the core data structure of NumPy. It is a multidimensional array of elements that can be used to represented vectors, matrices, and higher-dimensional arrays such as tensors. Obviously, the `ndarray` comes with a basic operation that you can imagine of such as `+`, `-`, `*`, `/`, `**`, and many more. First of, let's look at a few example of how to create a vector and a matrix. "
   ]
  },
  {
   "cell_type": "code",
   "execution_count": 30,
   "metadata": {},
   "outputs": [
    {
     "data": {
      "text/plain": [
       "(array(100.),\n",
       " array([5, 6, 1, 3, 5]),\n",
       " array([1, 3, 5, 7, 9]),\n",
       " array([0., 0., 0., 0., 0.]))"
      ]
     },
     "execution_count": 30,
     "metadata": {},
     "output_type": "execute_result"
    }
   ],
   "source": [
    "s = np.array(100.0)                 # create a scalar\n",
    "x = np.array([5, 6, 1, 3, 5])       # create a vector\n",
    "y = np.arange(1, 10, step=2)        # start from 1, stop at 10, step by 2\n",
    "z = np.zeros(5, dtype=float)        # all zeros vector with type float, there is also `np.ones(sz)`\n",
    "s, x, y, z # you either print this variable or put them on the last line of the cell to display it. "
   ]
  },
  {
   "cell_type": "markdown",
   "metadata": {},
   "source": [
    "You can then perform basic operations on these vectors as you would do on basic Python variables. For example,  "
   ]
  },
  {
   "cell_type": "code",
   "execution_count": 31,
   "metadata": {},
   "outputs": [
    {
     "data": {
      "text/plain": [
       "(array([ 6,  9,  6, 10, 14]),\n",
       " array([ 4,  3, -4, -4, -4]),\n",
       " array([ 5, 18,  5, 21, 45]),\n",
       " array([5.        , 2.        , 0.2       , 0.42857143, 0.55555556]),\n",
       " array([      5,     216,       1,    2187, 1953125]))"
      ]
     },
     "execution_count": 31,
     "metadata": {},
     "output_type": "execute_result"
    }
   ],
   "source": [
    "x + y, x - y, x * y, x / y, x ** y"
   ]
  },
  {
   "cell_type": "markdown",
   "metadata": {},
   "source": [
    "To get the shape of the vector, you can use the `shape` attribute."
   ]
  },
  {
   "cell_type": "code",
   "execution_count": 32,
   "metadata": {},
   "outputs": [
    {
     "data": {
      "text/plain": [
       "((5,), ())"
      ]
     },
     "execution_count": 32,
     "metadata": {},
     "output_type": "execute_result"
    }
   ],
   "source": [
    "x.shape, s.shape"
   ]
  },
  {
   "cell_type": "markdown",
   "metadata": {},
   "source": [
    "## 2: `ndarray` as matrices\n",
    "\n",
    "As a generalization, `ndarray` can be represented as a matrix. You can create a matrix by passing a list of lists to the `np.array()` function. Or else, you can use a commonly used constructor function that is already included in the NumPy package like below example."
   ]
  },
  {
   "cell_type": "code",
   "execution_count": 33,
   "metadata": {},
   "outputs": [
    {
     "data": {
      "text/plain": [
       "array([[1, 2, 3],\n",
       "       [4, 5, 6],\n",
       "       [7, 8, 9]])"
      ]
     },
     "execution_count": 33,
     "metadata": {},
     "output_type": "execute_result"
    }
   ],
   "source": [
    "M = np.array([\n",
    "    [1, 2, 3],\n",
    "    [4, 5, 6],\n",
    "    [7, 8, 9]\n",
    "]) # creating matrix\n",
    "\n",
    "M"
   ]
  },
  {
   "cell_type": "code",
   "execution_count": 34,
   "metadata": {},
   "outputs": [
    {
     "data": {
      "text/plain": [
       "(array([[1., 0., 0.],\n",
       "        [0., 1., 0.],\n",
       "        [0., 0., 1.]]),\n",
       " array([[5, 5, 5],\n",
       "        [5, 5, 5],\n",
       "        [5, 5, 5]]),\n",
       " array([[0, 1, 2],\n",
       "        [3, 4, 5],\n",
       "        [6, 7, 8]]))"
      ]
     },
     "execution_count": 34,
     "metadata": {},
     "output_type": "execute_result"
    }
   ],
   "source": [
    "I = np.eye(3) # creating identity matrix\n",
    "P = np.full((3, 3), 5) # creating 3x3 matrix with all elements are 5\n",
    "A = np.arange(9).reshape(3, 3) # creating 3x3 matrix with elements from 0 to 8\n",
    "I, P, A"
   ]
  },
  {
   "cell_type": "markdown",
   "metadata": {},
   "source": [
    "Then, doing some operations, "
   ]
  },
  {
   "cell_type": "code",
   "execution_count": 35,
   "metadata": {},
   "outputs": [
    {
     "data": {
      "text/plain": [
       "(array([[10, 10, 10],\n",
       "        [10, 10, 10],\n",
       "        [10, 10, 10]]),\n",
       " array([24, 30, 36]),\n",
       " array([[ 15,  15,  15],\n",
       "        [ 60,  60,  60],\n",
       "        [105, 105, 105]]),\n",
       " (3, 3),\n",
       " array([[ 0,  5, 10],\n",
       "        [15, 20, 25],\n",
       "        [30, 35, 40]]))"
      ]
     },
     "execution_count": 35,
     "metadata": {},
     "output_type": "execute_result"
    }
   ],
   "source": [
    "x = np.array([1, 2, 3]) # creating a vector\n",
    "\n",
    "x1 = 2 * P              # scalar times matrix\n",
    "x2 = x @ A              # vector times matrix\n",
    "x3 = A @ P              # matrix multiplication\n",
    "x4 = A * P              # element-wise multiplication, (not the same as `@`)\n",
    "\n",
    "x1, x2, x3, x3.shape, x4"
   ]
  },
  {
   "cell_type": "markdown",
   "metadata": {},
   "source": [
    "It is tedious to list all the function here as there are many of them. The best way I recommend to learn more about these function is to learn as you go. Let's say, in the future, you have a requirement to do a certain operation, you can go search on the official document to see if there is anything match your need. Otherwise, you can do it by yourself."
   ]
  },
  {
   "cell_type": "markdown",
   "metadata": {},
   "source": [
    "## 3: Indexing and slicing"
   ]
  },
  {
   "cell_type": "markdown",
   "metadata": {},
   "source": [
    "Indexing and slicing in NumPy is similar to Python lists. You can use the square bracket notation to access elements in an array, e.g., `array[start:stop:step, ...]`."
   ]
  },
  {
   "cell_type": "code",
   "execution_count": 36,
   "metadata": {},
   "outputs": [],
   "source": [
    "array = np.array([[1, 2, 3, 4],\n",
    "                  [5, 6, 7, 8],\n",
    "                  [9, 10, 11, 12],\n",
    "                  [13, 14, 15, 16]])"
   ]
  },
  {
   "cell_type": "code",
   "execution_count": 37,
   "metadata": {},
   "outputs": [],
   "source": [
    "# Using fancy indexing (selecting specific rows and columns: rows 0 and 2, columns 1 and 3)\n",
    "fancy_indexing = array[[0, 2], [1, 3]]"
   ]
  },
  {
   "cell_type": "code",
   "execution_count": 38,
   "metadata": {},
   "outputs": [],
   "source": [
    "single_element = array[1, 2]            # Accessing a single element (element at row 1, column 2)     \n",
    "sliced_rows = array[:2, :]              # Slicing rows (first two rows)\n",
    "sliced_columns = array[:, -2:]          # Slicing columns (last two columns)\n",
    "sliced_subarray = array[1:3, 1:4]       # Slicing subarrays (rows 1 to 2, columns 1 to 3)\n",
    "boolean_indexing = array[array > 10]    # Using boolean indexing (elements greater than 10)"
   ]
  },
  {
   "cell_type": "code",
   "execution_count": 39,
   "metadata": {},
   "outputs": [],
   "source": [
    "array[0, :] = 0                         # Modifying the first row of the array      \n",
    "array[0, :] = [1, 2, 3, 4]              # Resetting the array to its original values for further demonstration\n",
    "slicing_with_steps = array[0, ::2]      # Using slicing with steps (every other element in the first row)\n",
    "transposed_array = array.T              # Transposing the array"
   ]
  },
  {
   "cell_type": "markdown",
   "metadata": {},
   "source": [
    "## 4: Broadcasting\n",
    "\n",
    "Broadcasting is a powerful mechanism that allows NumPy to work with arrays of different shapes when performing arithmetic operations. It is a set of rules for applying binary universal functions (e.g., addition, subtraction, multiplication, etc.) on arrays of different sizes. The main idea is to stretch the smaller array so that it matches the shape of the larger array. Let's see an example of how broadcasting works."
   ]
  },
  {
   "cell_type": "code",
   "execution_count": 40,
   "metadata": {},
   "outputs": [
    {
     "data": {
      "text/plain": [
       "(array([[0, 1, 2],\n",
       "        [3, 4, 5],\n",
       "        [6, 7, 8]]),\n",
       " array([[ 1,  3,  5],\n",
       "        [ 4,  6,  8],\n",
       "        [ 7,  9, 11]]))"
      ]
     },
     "execution_count": 40,
     "metadata": {},
     "output_type": "execute_result"
    }
   ],
   "source": [
    "x = np.array([[1, 2, 3]])         # shape (1, 3)\n",
    "y = np.arange(9).reshape(3, 3)    # shape (3, 3)\n",
    "y, x + y                          # shape (3, 3)"
   ]
  },
  {
   "cell_type": "markdown",
   "metadata": {},
   "source": [
    "Sometimes it hard to predict what kind of shape we will get from the broadcasting operation. But the basic intution is that (1) NumPy will create a new axis to match the dimension of the other array (if it can, sometimes it cannot), (2) then it will repeat the array along that axis to match the shape of the other array. Look at this one"
   ]
  },
  {
   "cell_type": "code",
   "execution_count": 41,
   "metadata": {},
   "outputs": [
    {
     "data": {
      "text/plain": [
       "((2, 3, 4),\n",
       " array([[[0, 1, 2, 3],\n",
       "         [1, 2, 3, 4],\n",
       "         [2, 3, 4, 5]],\n",
       " \n",
       "        [[4, 5, 6, 7],\n",
       "         [5, 6, 7, 8],\n",
       "         [6, 7, 8, 9]]]))"
      ]
     },
     "execution_count": 41,
     "metadata": {},
     "output_type": "execute_result"
    }
   ],
   "source": [
    "X = np.arange(8).reshape(2, 1, 4)\n",
    "Y = np.arange(3).reshape(1, 3, 1)\n",
    "Z = X + Y\n",
    "\n",
    "Z.shape, Z"
   ]
  },
  {
   "cell_type": "markdown",
   "metadata": {},
   "source": [
    "It may seems confusing at first, but once you get the hang of it, it helps you to write more concise and readable code."
   ]
  },
  {
   "cell_type": "markdown",
   "metadata": {},
   "source": [
    "## 5: Vectorized Operations\n",
    "\n",
    "One of the main reasons we need to use NumPy is because you can avoid writing loops by using vectorized operations.  It yields a significantly faster code. The benefits comes from (1) NumPy is implemented in C, which is faster than Python and (2) it uses SIMD (Single Instruction, Multiple Data) instructions to process multiple elements at once. Let's compare two example of matrix multiplication of large matrices using NumPy and Python built-in list."
   ]
  },
  {
   "cell_type": "code",
   "execution_count": 42,
   "metadata": {},
   "outputs": [],
   "source": [
    "# Naive Python Implementation\n",
    "def matrix_multiply(A, B):\n",
    "    # Get the dimensions of the matrices\n",
    "    rows_A, cols_A = len(A), len(A[0])\n",
    "    rows_B, cols_B = len(B), len(B[0])\n",
    "\n",
    "    # Check if multiplication is possible\n",
    "    if cols_A != rows_B:\n",
    "        raise ValueError(\"Number of columns in A must be equal to the number of rows in B\")\n",
    "\n",
    "    # Initialize the result matrix with zeros\n",
    "    result = [[0 for _ in range(cols_B)] for _ in range(rows_A)]\n",
    "\n",
    "    # Perform the matrix multiplication\n",
    "    for i in range(rows_A):\n",
    "        for j in range(cols_B):\n",
    "            for k in range(cols_A):\n",
    "                result[i][j] += A[i][k] * B[k][j]\n",
    "\n",
    "    return result"
   ]
  },
  {
   "cell_type": "code",
   "execution_count": 43,
   "metadata": {},
   "outputs": [],
   "source": [
    "A = np.random.randn(100, 100)\n",
    "B = np.random.randn(100, 100)\n",
    "\n",
    "A_as_list = A.tolist()\n",
    "B_as_list = B.tolist()"
   ]
  },
  {
   "cell_type": "code",
   "execution_count": 44,
   "metadata": {},
   "outputs": [
    {
     "name": "stdout",
     "output_type": "stream",
     "text": [
      "32.1 ms ± 575 μs per loop (mean ± std. dev. of 7 runs, 10 loops each)\n"
     ]
    }
   ],
   "source": [
    "%timeit matrix_multiply(A_as_list, B_as_list)"
   ]
  },
  {
   "cell_type": "code",
   "execution_count": 45,
   "metadata": {},
   "outputs": [
    {
     "name": "stdout",
     "output_type": "stream",
     "text": [
      "9.28 μs ± 431 ns per loop (mean ± std. dev. of 7 runs, 100,000 loops each)\n"
     ]
    }
   ],
   "source": [
    "%timeit A @ B"
   ]
  },
  {
   "cell_type": "markdown",
   "metadata": {},
   "source": [
    "See how things are much faster when using NumPy?"
   ]
  },
  {
   "cell_type": "markdown",
   "metadata": {},
   "source": [
    "## 6: Sampling Random Numbers\n",
    "\n",
    "NumPy provides a wide range of functions for generating random numbers. The `np.random` module provides functions for generating random numbers from different probability distributions. Here are some examples of how to generate random numbers from uniform distribution and normal distribution. "
   ]
  },
  {
   "cell_type": "code",
   "execution_count": 46,
   "metadata": {},
   "outputs": [],
   "source": [
    "u = np.random.uniform(0, 1, 1000) # 10 random numbers from uniform distribution"
   ]
  },
  {
   "cell_type": "code",
   "execution_count": 47,
   "metadata": {},
   "outputs": [
    {
     "data": {
      "text/plain": [
       "<matplotlib.legend.Legend at 0x1152e22d0>"
      ]
     },
     "execution_count": 47,
     "metadata": {},
     "output_type": "execute_result"
    },
    {
     "data": {
      "image/png": "[encoded data removed]",
      "text/plain": [
       "<Figure size 640x480 with 1 Axes>"
      ]
     },
     "metadata": {},
     "output_type": "display_data"
    }
   ],
   "source": [
    "fig, ax = plt.subplots(1, 1)\n",
    "ax.hist(u, bins=10, density=True)\n",
    "ax.set_title(\"Uniform Distribution\")\n",
    "ax.set_xlabel(\"Value\")\n",
    "ax.set_ylabel(\"Frequency\")\n",
    "ax.plot((0, 1), (1, 1), 'r--', label='Uniform(0, 1)')\n",
    "ax.legend()"
   ]
  },
  {
   "cell_type": "code",
   "execution_count": 48,
   "metadata": {},
   "outputs": [
    {
     "data": {
      "text/plain": [
       "<matplotlib.legend.Legend at 0x115464890>"
      ]
     },
     "execution_count": 48,
     "metadata": {},
     "output_type": "execute_result"
    },
    {
     "data": {
      "image/png": "[encoded data removed]",
      "text/plain": [
       "<Figure size 640x480 with 1 Axes>"
      ]
     },
     "metadata": {},
     "output_type": "display_data"
    }
   ],
   "source": [
    "n = np.random.normal(0, 1, 1000) # 10 random numbers from normal distribution\n",
    "xx = np.linspace(-4, 4, 100)\n",
    "yy = 1 / np.sqrt(2 * np.pi) * np.exp(-0.5 * xx ** 2)\n",
    "\n",
    "fig, ax = plt.subplots(1, 1)\n",
    "ax.hist(n, bins=10, density=True)\n",
    "ax.set_title(\"Normal Distribution\")\n",
    "ax.set_xlabel(\"Value\")\n",
    "ax.set_ylabel(\"Frequency\")\n",
    "ax.plot(xx, yy, 'r--', label='Normal(0, 1)')\n",
    "ax.legend()"
   ]
  },
  {
   "cell_type": "markdown",
   "metadata": {},
   "source": [
    "Don't shy away from the visualization yet, the usual way to plot a graph is as easy as follows: \n",
    "1. Create a figure and an axis object using `plt.subplots()`.\n",
    "2. Use the `ax.hist()`, `ax.line()`, `ax.scatter()` to draw something on the figure.\n",
    "3. Set the title, label, legend, and other things using `ax.set_title()`, `ax.set_xlabel()`, `ax.set_ylabel()`, and `ax.legend()`, respectively.\n",
    "\n",
    "This should be sufficient for visualizing something quickly. Try search for `matplotlib` cheatsheet or its official documentation for more information."
   ]
  },
  {
   "cell_type": "markdown",
   "metadata": {},
   "source": [
    "## 7: Other Topics\n",
    "\n",
    "There are many other topics in NumPy that we haven't covered in this notebook and you should explore on your own. Some of the topics include:\n",
    "\n",
    "- Aggregation functions: NumPy provides many functions for aggregating data, such as `sum()`, `mean()`, `std()`, `min()`, `max()`, etc.\n",
    "- Linear algebra: NumPy provides many functions for linear algebra, such as `dot()`, `inv()`, `det()`, `eig()`, etc."
   ]
  }
 ],
 "metadata": {
  "kernelspec": {
   "display_name": "probstat_spring25",
   "language": "python",
   "name": "python3"
  },
  "language_info": {
   "codemirror_mode": {
    "name": "ipython",
    "version": 3
   },
   "file_extension": ".py",
   "mimetype": "text/x-python",
   "name": "python",
   "nbconvert_exporter": "python",
   "pygments_lexer": "ipython3",
   "version": "3.12.0"
  }
 },
 "nbformat": 4,
 "nbformat_minor": 2
}
