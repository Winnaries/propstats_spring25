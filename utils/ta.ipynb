{
 "cells": [
  {
   "cell_type": "code",
   "execution_count": 1,
   "metadata": {},
   "outputs": [
    {
     "name": "stdout",
     "output_type": "stream",
     "text": [
      "\u001b[?25l\u001b[2K\u001b[0G[+] 0.0s\n",
      "\u001b[2K\u001b[1A\u001b[2K\u001b[0G[+] 0.1s\n",
      "conda-forge/osx-arm64 \u001b[33m━━━━━━━━╸\u001b[0m\u001b[90m━━━━━━━━━━━━━\u001b[0m   0.0 B /  ??.?MB @  ??.?MB/s  0.1s\n",
      "conda-forge/noarch    \u001b[33m━━━━━━━━╸\u001b[0m\u001b[90m━━━━━━━━━━━━━\u001b[0m   0.0 B /  ??.?MB @  ??.?MB/s  0.1s\u001b[2K\u001b[1A\u001b[2K\u001b[1A\u001b[2K\u001b[0G[+] 0.2s\n",
      "conda-forge/osx-arm64 \u001b[90m━━━━━━━━━━━━━━━━━━━━━━\u001b[0m  42.7kB /  14.1MB @ 259.3kB/s  0.2s\n",
      "conda-forge/noarch    \u001b[33m━━━━━━━━━━╸\u001b[0m\u001b[90m━━━━━━━━━━━\u001b[0m   0.0 B /  ??.?MB @  ??.?MB/s  0.2s\u001b[2K\u001b[1A\u001b[2K\u001b[1A\u001b[2K\u001b[0G[+] 0.3s\n",
      "conda-forge/osx-arm64 \u001b[90m━━━━━━━━━━━━━━━━━━━━━━\u001b[0m 359.4kB /  14.1MB @   1.3MB/s  0.3s\n",
      "conda-forge/noarch    ━━╸\u001b[90m━━━━━━━━━━━━━━━━━━━\u001b[0m   3.3MB /  18.9MB @  11.7MB/s  0.3s\u001b[2K\u001b[1A\u001b[2K\u001b[1A\u001b[2K\u001b[0G[+] 0.4s\n",
      "conda-forge/osx-arm64 ╸\u001b[90m━━━━━━━━━━━━━━━━━━━━━\u001b[0m   1.4MB /  14.1MB @   3.5MB/s  0.4s\n",
      "conda-forge/noarch    ━━━━━━━━╸\u001b[90m━━━━━━━━━━━━━\u001b[0m   8.1MB /  18.9MB @  20.6MB/s  0.4s\u001b[2K\u001b[1A\u001b[2K\u001b[1A\u001b[2K\u001b[0G[+] 0.5s\n",
      "conda-forge/osx-arm64 ━╸\u001b[90m━━━━━━━━━━━━━━━━━━━━\u001b[0m   1.9MB /  14.1MB @   4.2MB/s  0.5s\n",
      "conda-forge/noarch    ━━━━━━━━━━━╸\u001b[90m━━━━━━━━━━\u001b[0m  10.4MB /  18.9MB @  22.3MB/s  0.5s\u001b[2K\u001b[1A\u001b[2K\u001b[1A\u001b[2K\u001b[0G[+] 0.6s\n",
      "conda-forge/osx-arm64 ━━╸\u001b[90m━━━━━━━━━━━━━━━━━━━\u001b[0m   2.5MB /  14.1MB @   4.4MB/s  0.6s\n",
      "conda-forge/noarch    ━━━━━━━━━━━━━━━━╸\u001b[90m━━━━━\u001b[0m  15.2MB /  18.9MB @  26.8MB/s  0.6s\u001b[2K\u001b[1A\u001b[2K\u001b[1A\u001b[2K\u001b[0Gconda-forge/noarch                                  18.9MB @  29.8MB/s  0.6s\n",
      "[+] 0.7s\n",
      "conda-forge/osx-arm64 ━━━━━╸\u001b[90m━━━━━━━━━━━━━━━━\u001b[0m   4.4MB /  14.1MB @   6.5MB/s  0.7s\u001b[2K\u001b[1A\u001b[2K\u001b[0G[+] 0.8s\n",
      "conda-forge/osx-arm64 ━━━━━━━╸\u001b[90m━━━━━━━━━━━━━━\u001b[0m   5.6MB /  14.1MB @   7.5MB/s  0.8s\u001b[2K\u001b[1A\u001b[2K\u001b[0G[+] 0.9s\n",
      "conda-forge/osx-arm64 ━━━━━━━━━━╸\u001b[90m━━━━━━━━━━━\u001b[0m   7.7MB /  14.1MB @   8.9MB/s  0.9s\u001b[2K\u001b[1A\u001b[2K\u001b[0G[+] 1.0s\n",
      "conda-forge/osx-arm64 ━━━━━━━━━━━━━╸\u001b[90m━━━━━━━━\u001b[0m   9.7MB /  14.1MB @  10.0MB/s  1.0s\u001b[2K\u001b[1A\u001b[2K\u001b[0G[+] 1.1s\n",
      "conda-forge/osx-arm64 ━━━━━━━━━━━━━━━━━╸\u001b[90m━━━━\u001b[0m  11.9MB /  14.1MB @  11.1MB/s  1.1s\u001b[2K\u001b[1A\u001b[2K\u001b[0Gconda-forge/osx-arm64                               14.1MB @  11.9MB/s  1.2s\n",
      "\u001b[?25h\n",
      "Pinned packages:\n",
      "  - python 3.12.*\n",
      "\n",
      "\n",
      "Transaction\n",
      "\n",
      "  Prefix: /Users/winnaries/micromamba/envs/probstat_spring25\n",
      "\n",
      "  All requested packages already installed\n",
      "\n",
      "\n",
      "Transaction starting\n",
      "\u001b[?25l\u001b[2K\u001b[0G\u001b[?25h\n",
      "Transaction finished\n",
      "\n",
      "To activate this environment, use:\n",
      "\n",
      "    micromamba activate probstat_spring25\n",
      "\n",
      "Or to execute a single command in this environment, use:\n",
      "\n",
      "    micromamba run -n probstat_spring25 mycommand\n",
      "\n",
      "\n",
      "Note: you may need to restart the kernel to use updated packages.\n"
     ]
    }
   ],
   "source": [
    "%micromamba install -c conda-forge PyPDF2 tabulate tqdm -y"
   ]
  },
  {
   "cell_type": "code",
   "execution_count": 5,
   "metadata": {},
   "outputs": [],
   "source": [
    "import PyPDF2\n",
    "import os \n",
    "import csv\n",
    "import tabulate\n",
    "from tqdm import tqdm"
   ]
  },
  {
   "cell_type": "code",
   "execution_count": 20,
   "metadata": {},
   "outputs": [],
   "source": [
    "config = dict(\n",
    "    name='HW1', \n",
    "    section=1, \n",
    "    suffix='graded',\n",
    "    operation='UNMERGE',  \n",
    "    folders=[\n",
    "        '/Users/winnaries/Downloads/attachments-4',\n",
    "        '/Users/winnaries/Downloads/attachments-5'\n",
    "    ]\n",
    ")\n",
    "\n",
    "base_folder = '/Users/winnaries/personal/probstat_spring25/submission'\n",
    "submission_path = os.path.join(base_folder, f'section_{config[\"section\"]}')"
   ]
  },
  {
   "cell_type": "code",
   "execution_count": 21,
   "metadata": {},
   "outputs": [],
   "source": [
    "def get_latest_pdf_path(folder): \n",
    "    latest_file = None\n",
    "    latest_time = 0\n",
    "    for file in os.listdir(folder): \n",
    "        if file.endswith('.pdf'): \n",
    "            time = file.split('-')[-1].split('.')[0]\n",
    "            if int(time) > latest_time: \n",
    "                latest_time = int(time)\n",
    "                latest_file = os.path.join(folder, file)\n",
    "    return latest_file\n",
    "\n",
    "def get_submission_list(folders): \n",
    "    homework_files = []\n",
    "    for folder in folders: \n",
    "        for student_id in os.listdir(folder): \n",
    "            abs_path = os.path.join(folder, student_id)\n",
    "            if not os.path.isdir(abs_path): \n",
    "                continue\n",
    "            pdf_path = get_latest_pdf_path(abs_path)\n",
    "            if pdf_path: \n",
    "                homework_files.append((student_id, pdf_path))\n",
    "    return sorted(homework_files, key=lambda x: x[0])\n",
    "\n",
    "def merge_submissions(submissions, filename='HW1'): \n",
    "    merger = PyPDF2.PdfMerger()\n",
    "    page_map = [] # (idx, student_id, page_num, page_len)\n",
    "    tot_pages = 0\n",
    "    \n",
    "    for student_id, pdf_path in tqdm(submissions, total=len(submissions)): \n",
    "        try: \n",
    "            reader = PyPDF2.PdfReader(pdf_path)\n",
    "            num_page = len(reader.pages)\n",
    "            merger.append(pdf_path)\n",
    "            merger.add_outline_item(title=student_id, page_number=tot_pages)\n",
    "            page_map.append((len(page_map), student_id, tot_pages, num_page))\n",
    "            tot_pages += num_page\n",
    "        except PyPDF2.errors.EmptyFileError as e: \n",
    "            page_map.append((len(page_map), student_id, tot_pages, 0))\n",
    "\n",
    "    print(\"Saving merged PDF to\", os.path.join(submission_path, f\"{filename}.pdf\"))\n",
    "\n",
    "    merger.write(os.path.join(submission_path, f\"{filename}.pdf\"))\n",
    "    merger.close()\n",
    "\n",
    "    print(\"Saving page map to\", os.path.join(submission_path, f\"{filename}-log.csv\"))\n",
    "\n",
    "    with open(os.path.join(submission_path, f\"{filename}-log.csv\"), 'w') as f: \n",
    "        writer = csv.writer(f)\n",
    "        writer.writerow(['Index', 'Student ID', 'Start Page', 'Page Length'])\n",
    "        writer.writerows(page_map)\n",
    "\n",
    "    return tabulate.tabulate(page_map, headers=['Index', 'Student ID', 'Start Page', 'Page Length'], tablefmt='psql')\n",
    "\n",
    "def unmerge_submissions(filename='HW1', suffix='graded'): \n",
    "    page_map = []\n",
    "    with open(os.path.join(submission_path, f\"{filename}-log.csv\"), 'r') as f: \n",
    "        reader = csv.reader(f)\n",
    "        for i, row in enumerate(reader): \n",
    "            if i == 0: \n",
    "                continue\n",
    "            page_map.append((int(row[0]), row[1], int(row[2]), int(row[3])))\n",
    "    \n",
    "    _suffix = f\"-{suffix}\" if suffix else \"\"\n",
    "    print(\"Loading merged PDF from\", os.path.join(submission_path, f\"{filename}{_suffix}.pdf\"))\n",
    "    reader = PyPDF2.PdfReader(os.path.join(submission_path, f\"{filename}{_suffix}.pdf\"))\n",
    "    \n",
    "    print(\"Unmerging PDFs\")\n",
    "    for idx, student_id, start_page, page_len in tqdm(page_map): \n",
    "        writer = PyPDF2.PdfWriter()\n",
    "        for i in range(start_page, start_page+page_len): \n",
    "            writer.add_page(reader.pages[i])\n",
    "        save_folder = os.path.join(submission_path, f\"{filename}{_suffix}\")\n",
    "        if not os.path.exists(save_folder): \n",
    "            os.mkdir(save_folder)\n",
    "        with open(os.path.join(save_folder, f\"{filename}-{student_id}.pdf\"), 'wb') as f: \n",
    "            writer.write(f)"
   ]
  },
  {
   "cell_type": "code",
   "execution_count": 22,
   "metadata": {},
   "outputs": [
    {
     "name": "stdout",
     "output_type": "stream",
     "text": [
      "Loading merged PDF from /Users/winnaries/personal/probstat_spring25/submission/section_1/HW1-graded.pdf\n",
      "Unmerging PDFs\n"
     ]
    },
    {
     "name": "stderr",
     "output_type": "stream",
     "text": [
      "100%|██████████| 105/105 [00:03<00:00, 26.42it/s]\n"
     ]
    }
   ],
   "source": [
    "if config['operation'] == 'MERGE': \n",
    "    submission_list = get_submission_list(config['folders'])\n",
    "    print(merge_submissions(submission_list, config['name']))\n",
    "elif config['operation'] == 'UNMERGE':\n",
    "    unmerge_submissions(config['name'], config['suffix'])"
   ]
  },
  {
   "cell_type": "code",
   "execution_count": null,
   "metadata": {},
   "outputs": [],
   "source": []
  },
  {
   "cell_type": "code",
   "execution_count": null,
   "metadata": {},
   "outputs": [],
   "source": []
  }
 ],
 "metadata": {
  "kernelspec": {
   "display_name": "probstat_spring25",
   "language": "python",
   "name": "python3"
  },
  "language_info": {
   "codemirror_mode": {
    "name": "ipython",
    "version": 3
   },
   "file_extension": ".py",
   "mimetype": "text/x-python",
   "name": "python",
   "nbconvert_exporter": "python",
   "pygments_lexer": "ipython3",
   "version": "3.12.0"
  }
 },
 "nbformat": 4,
 "nbformat_minor": 2
}
